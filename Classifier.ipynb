{
 "cells": [
  {
   "cell_type": "code",
   "execution_count": 28,
   "id": "73cf6ea4",
   "metadata": {},
   "outputs": [
    {
     "name": "stdout",
     "output_type": "stream",
     "text": [
      "The class of above data is: 'Iris-Versicolour'\n"
     ]
    }
   ],
   "source": [
    "from sklearn import datasets\n",
    "from sklearn.neighbors import KNeighborsClassifier\n",
    "\n",
    "#Loading Datasets\n",
    "iris = datasets.load_iris()\n",
    "\n",
    "#Printing Descriptions and features\n",
    "#print(iris.DESCR)\n",
    "\n",
    "features = iris.data\n",
    "labels = iris.target\n",
    "\n",
    "#print(features[0],labels[0])\n",
    "\n",
    "clf = KNeighborsClassifier()\n",
    "\n",
    "clf.fit(features,labels)\n",
    "\n",
    "preds = clf.predict([[31,1,1,1]])\n",
    "#print(preds)\n",
    "\n",
    "if preds[0] == 1 :\n",
    "    print(\"The class of above data is: 'Iris-Setosa'\")\n",
    "elif preds[0] == 2 : \n",
    "    print(\"The class of above data is: 'Iris-Versicolour'\")\n",
    "elif preds[0] == 3 : \n",
    "    print(\"The class of above data is: 'Iris-Virginica'\")\n",
    "\n"
   ]
  }
 ],
 "metadata": {
  "kernelspec": {
   "display_name": "Python 3 (ipykernel)",
   "language": "python",
   "name": "python3"
  },
  "language_info": {
   "codemirror_mode": {
    "name": "ipython",
    "version": 3
   },
   "file_extension": ".py",
   "mimetype": "text/x-python",
   "name": "python",
   "nbconvert_exporter": "python",
   "pygments_lexer": "ipython3",
   "version": "3.8.2"
  }
 },
 "nbformat": 4,
 "nbformat_minor": 5
}
